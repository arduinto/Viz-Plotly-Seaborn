{
 "cells": [
  {
   "cell_type": "code",
   "execution_count": null,
   "metadata": {},
   "outputs": [],
   "source": [
    "# Data Processing\n",
    "import numpy as np\n",
    "import pandas as pd\n",
    "import seaborn as sns\n",
    "sns.set_style('whitegrid')\n",
    "\n",
    "# Basic Visualization tools\n",
    "import matplotlib.pyplot as plt\n",
    "import warnings \n",
    "warnings.filterwarnings('ignore')\n",
    "plt.rcParams['figure.dpi'] = 300"
   ]
  },
  {
   "cell_type": "code",
   "execution_count": null,
   "metadata": {},
   "outputs": [],
   "source": [
    "data = pd.read_csv('./StudentsPerformance.csv')"
   ]
  },
  {
   "cell_type": "code",
   "execution_count": null,
   "metadata": {},
   "outputs": [],
   "source": [
    "data"
   ]
  },
  {
   "cell_type": "markdown",
   "metadata": {},
   "source": [
    "##### Before we start Plotly...¶\n",
    "* Plotly's main object is `Figure()` object.\n",
    "* `add_trace` can consider as 'stacking figures'.\n",
    "* I will use these libraries :\n",
    "    * import `plotly.graph_objects` as `go`\n",
    "    * import `plotly.express` as `px`\n",
    "    * import `plotly.figure_factory` as `ff`"
   ]
  },
  {
   "cell_type": "markdown",
   "metadata": {},
   "source": [
    "##### Check NULL Data"
   ]
  },
  {
   "cell_type": "code",
   "execution_count": null,
   "metadata": {},
   "outputs": [],
   "source": [
    "import missingno as msno\n",
    "msno.matrix(data)"
   ]
  },
  {
   "cell_type": "markdown",
   "metadata": {},
   "source": [
    "### Table View"
   ]
  },
  {
   "cell_type": "code",
   "execution_count": null,
   "metadata": {},
   "outputs": [],
   "source": [
    "display(data)"
   ]
  },
  {
   "cell_type": "markdown",
   "metadata": {},
   "source": [
    "##### Plotly : go.Table\n",
    "* Tables\n",
    "\n",
    "You can see this table in plotly. (or you can custom every table what you want )\n",
    "\n",
    "`go.Table` provides a Table object for detailed data viewing.\n",
    "\n",
    "The data are arranged in a grid of rows and columns. Most styling can be specified for header, columns, rows or individual cells. Table is using a column-major order, ie. the grid is represented as a vector of column vectors.\n",
    "\n",
    "First need to initialize headers & cells."
   ]
  },
  {
   "cell_type": "code",
   "execution_count": null,
   "metadata": {},
   "outputs": [],
   "source": [
    "# Type 1 : Default\n",
    "\n",
    "import plotly.graph_objects as go\n",
    "\n",
    "fig = go.Figure()\n",
    "fig.add_trace(\n",
    "    go.Table(header=dict(values=data.columns, fill_color='paleturquoise'),\n",
    "             cells=dict(values=data.head(3).T, fill_color='lavender'))\n",
    ")\n",
    "fig.show()"
   ]
  },
  {
   "cell_type": "markdown",
   "metadata": {},
   "source": [
    "### Countplot\n",
    "__Seaborn : countplot, barplot + value_counts()__\n",
    "In seaborn, we can easily draw these graph\n",
    "\n",
    "* Countplot : Show the counts of observations in each categorical bin using bars.\n",
    "\n",
    "__Little tips__\n",
    "\n",
    "* If you want to make it vertical, replace x by y.\n",
    "* Use `alpha` parameter to set opacity for more readable plot\n",
    "* Use `hue` to find features' trend\n",
    "* use `plt.xticks` or `plt.yticks` to rotation xaxis label."
   ]
  },
  {
   "cell_type": "code",
   "execution_count": null,
   "metadata": {},
   "outputs": [],
   "source": [
    "fig, ax = plt.subplots(2,1,figsize=(21, 9))\n",
    "\n",
    "# Type 1 : Use Hue Parameter\n",
    "sns.countplot(\n",
    "    x=data['math score'], \n",
    "    data=data, \n",
    "    hue=data['gender'], \n",
    "    palette='Set1', \n",
    "    alpha=0.7, \n",
    "    ax=ax[0], \n",
    "    legend='auto')\n",
    "plt.xticks(rotation='vertical')\n",
    "\n",
    "# Type 2 : Use value_counts + barplot / hard to divide like hue\n",
    "sns.barplot(\n",
    "    x=data['math score'].value_counts().index,\n",
    "    y=data['math score'].value_counts(), ax=ax[1]\n",
    ")\n",
    "plt.show()"
   ]
  },
  {
   "cell_type": "markdown",
   "metadata": {},
   "source": [
    "##### __Plotly : px.histogram, go.Histogram__\n",
    "* Histograms\n",
    "\n",
    "Plotly doesn't have `countplot`. But with simple trick, we can make countplot. (or You can use `value_counts` + `bar` trick again)\n",
    "\n",
    "`plotly.express` and `plotly.graph_objects` have `histogram` plot.\n",
    "\n",
    "We can set x and y parameter same feature(it means y is number of x), and set color like hue.\n",
    "\n",
    "you can change barmode as group"
   ]
  },
  {
   "cell_type": "code",
   "execution_count": null,
   "metadata": {},
   "outputs": [],
   "source": [
    "import plotly.express as px\n",
    "\n",
    "# Type 1 : Stacked Graph (default)\n",
    "fig = px.histogram(data_frame=data, x=data['math score'], y=data['math score'], color=data['gender'])\n",
    "fig.show()\n",
    "\n",
    "# Type 2 : Group\n",
    "fig = px.histogram(data_frame=data, x=data['math score'], y=data['math score'], color=data['gender'])\n",
    "fig.update_layout(barmode='group')\n",
    "fig.show()"
   ]
  },
  {
   "cell_type": "markdown",
   "metadata": {},
   "source": [
    "You can add marginal parameter to show simple distribution.\n",
    "\n",
    "As you will see below, the marginal part above is set to `boxplot`.\n",
    "\n",
    "It is a graph that shows the quadrant, the median and the outlier."
   ]
  },
  {
   "cell_type": "code",
   "execution_count": null,
   "metadata": {},
   "outputs": [],
   "source": [
    "fig = px.histogram(data_frame=data, x=data['math score'], y=data['math score'], color=data['gender'], marginal='box')\n",
    "fig.show()"
   ]
  },
  {
   "cell_type": "markdown",
   "metadata": {},
   "source": [
    "### __Distplot__\n",
    "Seaborn : distplot\n",
    "* Distplot : Flexibly plot a univariate distribution of observations.\n",
    "\n",
    "`distplot` is similar to `countplot` because countplot is a histogram according to _frequency_.\n",
    "\n",
    "Basically, you can look at it with histogram, so it's easier to see trends than countplot.\n",
    "\n",
    "You cannot set the hue separately, so you need to draw the graphs individually. (you can add `label`)\n",
    "\n"
   ]
  },
  {
   "cell_type": "code",
   "execution_count": null,
   "metadata": {},
   "outputs": [],
   "source": [
    "# Type 1 : default view\n",
    "fig, ax = plt.subplots(1, 1, figsize=(16, 6))\n",
    "sns.kdeplot(data=data['math score'], common_norm=False)\n",
    "plt.show()"
   ]
  },
  {
   "cell_type": "code",
   "execution_count": null,
   "metadata": {},
   "outputs": [],
   "source": [
    "# Type 2 : Draw 2 Graph with label\n",
    "fig, ax = plt.subplots(1, 1, figsize=(16, 6))\n",
    "sns.kdeplot(data=data[data['gender'] == 'female']['math score'], color='red', ax=ax, label='female')\n",
    "sns.kdeplot(data=data[data['gender'] == 'male']['math score'], color='navy', ax=ax, label='male')\n",
    "plt.xticks(rotation='vertical')\n",
    "plt.legend()\n",
    "plt.show()"
   ]
  },
  {
   "cell_type": "code",
   "execution_count": null,
   "metadata": {},
   "outputs": [],
   "source": [
    "# Type 3 : Add Avg Line\n",
    "fig, ax = plt.subplots(1, 1, figsize=(16, 6))\n",
    "sns.kdeplot(\n",
    "    data=data[data['gender'] == 'female']['math score'], \n",
    "    color='navy', \n",
    "    ax=ax, \n",
    "    label='female'\n",
    ")\n",
    "\n",
    "sns.kdeplot(\n",
    "    data=data[data['gender'] == 'male']['math score'], \n",
    "    color='maroon', \n",
    "    ax=ax, \n",
    "    label='male'\n",
    ")\n",
    "\n",
    "# Average Line\n",
    "plt.axvline(\n",
    "    x=data[data['gender'] == 'female']['math score'].mean(),\n",
    "    color='navy'\n",
    ")\n",
    "\n",
    "plt.axvline(\n",
    "    x=data[data['gender'] == 'male']['math score'].mean(),\n",
    "    color='maroon'\n",
    ")\n",
    "\n",
    "plt.legend\n",
    "plt.xticks(rotation='vertical')\n",
    "plt.show()"
   ]
  },
  {
   "cell_type": "markdown",
   "metadata": {},
   "source": [
    "##### Plotly : ff.creat_distplot\n",
    "* Distplots\n",
    "\n",
    "In Plotly, You can use `import plotly.figure_factory as ff.`"
   ]
  },
  {
   "cell_type": "code",
   "execution_count": null,
   "metadata": {},
   "outputs": [],
   "source": [
    "# Type 1 : Default\n",
    "import plotly.figure_factory as ff\n",
    "\n",
    "fig = ff.create_distplot(\n",
    "    [data[data['gender'] == 'male']['math score'],\n",
    "     data[data['gender'] == 'female']['math score']],\n",
    "    ['male', 'female'], )\n",
    "\n",
    "fig.show()"
   ]
  }
 ],
 "metadata": {
  "kernelspec": {
   "display_name": "Python 3",
   "language": "python",
   "name": "python3"
  },
  "language_info": {
   "codemirror_mode": {
    "name": "ipython",
    "version": 3
   },
   "file_extension": ".py",
   "mimetype": "text/x-python",
   "name": "python",
   "nbconvert_exporter": "python",
   "pygments_lexer": "ipython3",
   "version": "3.11.7"
  }
 },
 "nbformat": 4,
 "nbformat_minor": 2
}
